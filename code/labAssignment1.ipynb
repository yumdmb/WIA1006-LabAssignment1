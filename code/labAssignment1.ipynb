{
 "cells": [
  {
   "attachments": {},
   "cell_type": "markdown",
   "metadata": {},
   "source": [
    "# Lab Work 1 \n",
    "## House Pricing Prediction using Regression"
   ]
  },
  {
   "attachments": {},
   "cell_type": "markdown",
   "metadata": {},
   "source": [
    " #### 1.Create virtual envinroment for this project\n",
    " - Run this command : **python3 -m venv <name_of_virtualenv>**\n",
    "\n",
    " #### 2.Install all necessary libraries\n",
    " - Run these commands : \n",
    "   - **pip install numpy**\n",
    "   - **pip install pandas**\n",
    "   - **pip install matplotlib** \n",
    "   - **pip install -U scikit-learn**\n"
   ]
  },
  {
   "attachments": {},
   "cell_type": "markdown",
   "metadata": {
    "slideshow": {
     "slide_type": "subslide"
    }
   },
   "source": [
    "   In this lab work assignment, your task is to develop a program that utilizes your knowledge of \n",
    "regression techniques to predict house prices based on the given features. You will need to \n",
    "analyze the dataset, preprocess the data, train, and evaluate different regression models, and \n",
    "compare their performance. The dataset for this task is provided, named **‘House Pricing.csv’**. \n"
   ]
  },
  {
   "attachments": {},
   "cell_type": "markdown",
   "metadata": {
    "slideshow": {
     "slide_type": "subslide"
    }
   },
   "source": [
    "##### 1.Data Analysis"
   ]
  },
  {
   "cell_type": "code",
   "execution_count": 2,
   "metadata": {},
   "outputs": [],
   "source": [
    "# import libraries\n",
    "import numpy as np\n",
    "import pandas as pd\n",
    "import seaborn as sns"
   ]
  },
  {
   "cell_type": "code",
   "execution_count": 3,
   "metadata": {},
   "outputs": [
    {
     "name": "stdout",
     "output_type": "stream",
     "text": [
      "      price  area  bedrooms  bathrooms  stories mainroad guestroom basement   \n",
      "0  13300000  7420         4          2        3      yes        no       no  \\\n",
      "1  12250000  8960         4          4        4      yes        no       no   \n",
      "2  12250000  9960         3          2        2      yes        no      yes   \n",
      "3  12215000  7500         4          2        2      yes        no      yes   \n",
      "4  11410000  7420         4          1        2      yes       yes      yes   \n",
      "\n",
      "  hotwaterheating airconditioning  parking prefarea furnishingstatus  \n",
      "0              no             yes        2      yes        furnished  \n",
      "1              no             yes        3       no        furnished  \n",
      "2              no              no        2      yes   semi-furnished  \n",
      "3              no             yes        3      yes        furnished  \n",
      "4              no             yes        2       no        furnished  \n",
      "              price          area    bedrooms   bathrooms     stories   \n",
      "count  5.450000e+02    545.000000  545.000000  545.000000  545.000000  \\\n",
      "mean   4.766729e+06   5150.541284    2.965138    1.286239    1.805505   \n",
      "std    1.870440e+06   2170.141023    0.738064    0.502470    0.867492   \n",
      "min    1.750000e+06   1650.000000    1.000000    1.000000    1.000000   \n",
      "25%    3.430000e+06   3600.000000    2.000000    1.000000    1.000000   \n",
      "50%    4.340000e+06   4600.000000    3.000000    1.000000    2.000000   \n",
      "75%    5.740000e+06   6360.000000    3.000000    2.000000    2.000000   \n",
      "max    1.330000e+07  16200.000000    6.000000    4.000000    4.000000   \n",
      "\n",
      "          parking  \n",
      "count  545.000000  \n",
      "mean     0.693578  \n",
      "std      0.861586  \n",
      "min      0.000000  \n",
      "25%      0.000000  \n",
      "50%      0.000000  \n",
      "75%      1.000000  \n",
      "max      3.000000  \n",
      "price                int64\n",
      "area                 int64\n",
      "bedrooms             int64\n",
      "bathrooms            int64\n",
      "stories              int64\n",
      "mainroad            object\n",
      "guestroom           object\n",
      "basement            object\n",
      "hotwaterheating     object\n",
      "airconditioning     object\n",
      "parking              int64\n",
      "prefarea            object\n",
      "furnishingstatus    object\n",
      "dtype: object\n"
     ]
    }
   ],
   "source": [
    "#load data into Panda's dataframe\n",
    "df = pd.read_csv('../dataset/House Pricing.csv')\n",
    "\n",
    "#print the first 5 rows of the dataframe\n",
    "print(df.head())\n",
    "\n",
    "#check the basic statistics of the dataframe\n",
    "print(df.describe())\n",
    "\n",
    "#check the data types of the dataframe\n",
    "print(df.dtypes)"
   ]
  },
  {
   "cell_type": "code",
   "execution_count": null,
   "metadata": {},
   "outputs": [],
   "source": [
    "#Visualize the distribution of the features(numerical) using histogram\n",
    "sns.histplot(df['price'])\n",
    "sns.histplot(df['area'])\n",
    "sns.histplot(df['bedrooms'])\n",
    "sns.histplot(df['bathrooms'])\n",
    "sns.histplot(df['stories'])\n",
    "sns.histplot(df['parking'])"
   ]
  },
  {
   "cell_type": "code",
   "execution_count": null,
   "metadata": {},
   "outputs": [],
   "source": [
    "#Visualize the frequency of the features(categorical) using bar chart\n",
    "sns.countplot(x='mainroad', data=df)\n",
    "sns.countplot(x='guestroom', data=df)\n",
    "sns.countplot(x='basement', data=df)\n",
    "sns.countplot(x='hotwaterheating', data=df)\n",
    "sns.countplot(x='airconditioning', data=df)\n",
    "sns.countplot(x='prefarea', data=df)\n",
    "sns.countplot(x='furnishingstatus', data=df)"
   ]
  },
  {
   "cell_type": "code",
   "execution_count": null,
   "metadata": {},
   "outputs": [],
   "source": [
    "# relate between the features and price\n",
    "sns.scatterplot(x='area', y='price', data=df)\n",
    "sns.boxplot(x='bedrooms', y='price', data=df)\n",
    "sns.boxplot(x='bathrooms', y='price', data=df)\n",
    "sns.boxplot(x='stories', y='price', data=df)\n",
    "sns.boxplot(x='mainroad', y='price', data=df)\n",
    "sns.boxplot(x='guestroom', y='price', data=df)\n",
    "sns.boxplot(x='basement', y='price', data=df)\n",
    "sns.boxplot(x='hotwaterheating', y='price', data=df)\n",
    "sns.boxplot(x='airconditioning', y='price', data=df)\n",
    "sns.boxplot(x='parking', y='price', data=df)\n",
    "sns.boxplot(x='prefarea', y='price', data=df)\n",
    "sns.boxplot(x='furnishingstatus', y='price', data=df)"
   ]
  },
  {
   "attachments": {},
   "cell_type": "markdown",
   "metadata": {
    "slideshow": {
     "slide_type": "subslide"
    }
   },
   "source": [
    "#### 2.Data Preprocessing"
   ]
  },
  {
   "cell_type": "code",
   "execution_count": 12,
   "metadata": {},
   "outputs": [],
   "source": [
    "import pandas as pd\n",
    "import numpy as np\n",
    "from sklearn.model_selection import train_test_split\n",
    "from sklearn.preprocessing import StandardScaler, OneHotEncoder"
   ]
  },
  {
   "cell_type": "code",
   "execution_count": 21,
   "metadata": {},
   "outputs": [
    {
     "name": "stdout",
     "output_type": "stream",
     "text": [
      "--------------------\n",
      "Missing values:\n",
      "price               0\n",
      "area                0\n",
      "bedrooms            0\n",
      "bathrooms           0\n",
      "stories             0\n",
      "mainroad            0\n",
      "guestroom           0\n",
      "basement            0\n",
      "hotwaterheating     0\n",
      "airconditioning     0\n",
      "parking             0\n",
      "prefarea            0\n",
      "furnishingstatus    0\n",
      "dtype: int64\n",
      "--------------------\n",
      "Training set shape: (528, 13) (528,)\n",
      "Testing set shape: (17, 13) (17,)\n"
     ]
    },
    {
     "name": "stderr",
     "output_type": "stream",
     "text": [
      "d:\\OneDrive - Universiti Malaya\\Sem 2\\WIA1006 Machine Learning\\Lab Assignment 1\\.venv\\Lib\\site-packages\\sklearn\\preprocessing\\_encoders.py:868: FutureWarning: `sparse` was renamed to `sparse_output` in version 1.2 and will be removed in 1.4. `sparse_output` is ignored unless you leave `sparse` to its default value.\n",
      "  warnings.warn(\n"
     ]
    }
   ],
   "source": [
    "# Load the dataset\n",
    "df = pd.read_csv('../dataset/House Pricing.csv')\n",
    "\n",
    "# Check for missing values\n",
    "print(\"--------------------\")\n",
    "print(\"Missing values:\")\n",
    "print(df.isnull().sum())\n",
    "print(\"--------------------\")\n",
    "\n",
    "# Convert categorical variables into dummy variables\n",
    "categorical_cols = ['mainroad', 'guestroom', 'basement', 'hotwaterheating', 'airconditioning', 'prefarea', 'furnishingstatus']\n",
    "encoder = OneHotEncoder(drop='first', sparse=False)\n",
    "encoded_cols = pd.DataFrame(encoder.fit_transform(df[categorical_cols]))\n",
    "encoded_cols.columns = encoder.get_feature_names_out(categorical_cols)\n",
    "\n",
    "# Replace categorical columns with encoded columns\n",
    "df = pd.concat([df.drop(categorical_cols, axis=1), encoded_cols], axis=1)\n",
    "\n",
    "# Scale numerical features\n",
    "scaler = StandardScaler()\n",
    "num_cols = ['price', 'area', 'bedrooms', 'bathrooms', 'stories', 'parking']\n",
    "df[num_cols] = scaler.fit_transform(df[num_cols])\n",
    "\n",
    "# Split the dataset into training and testing sets\n",
    "X = df.drop('price', axis=1)\n",
    "y = df['price']\n",
    "X_train, X_test, y_train, y_test = train_test_split(X, y, test_size=0.03, random_state=42)\n",
    "\n",
    "# Verify the shape of the training and testing sets\n",
    "print(\"Training set shape:\", X_train.shape, y_train.shape)\n",
    "print(\"Testing set shape:\", X_test.shape, y_test.shape)"
   ]
  }
 ],
 "metadata": {
  "kernelspec": {
   "display_name": ".venv",
   "language": "python",
   "name": "python3"
  },
  "language_info": {
   "codemirror_mode": {
    "name": "ipython",
    "version": 3
   },
   "file_extension": ".py",
   "mimetype": "text/x-python",
   "name": "python",
   "nbconvert_exporter": "python",
   "pygments_lexer": "ipython3",
   "version": "3.11.3"
  },
  "orig_nbformat": 4
 },
 "nbformat": 4,
 "nbformat_minor": 2
}
