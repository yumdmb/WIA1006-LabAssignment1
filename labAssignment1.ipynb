{
 "cells": [
  {
   "attachments": {},
   "cell_type": "markdown",
   "metadata": {},
   "source": [
    "# Lab Work 1 \n",
    "## House Pricing Prediction using Regresson"
   ]
  },
  {
   "attachments": {},
   "cell_type": "markdown",
   "metadata": {},
   "source": [
    " #### 1.Create virtual envinroment for this project\n",
    " - Run this command : **python3 -m venv <name_of_virtualenv>**\n",
    "\n",
    " #### 2.Install all necessary libraries\n",
    " - Run these commands : \n",
    "   - **pip install numpy**\n",
    "   - **pip install pandas**\n",
    "   - **pip install matplotlib** \n",
    "   - **pip install -U scikit-learn**\n"
   ]
  },
  {
   "attachments": {},
   "cell_type": "markdown",
   "metadata": {
    "slideshow": {
     "slide_type": "subslide"
    }
   },
   "source": [
    "   In this lab work assignment, your task is to develop a program that utilizes your knowledge of \n",
    "regression techniques to predict house prices based on the given features. You will need to \n",
    "analyze the dataset, preprocess the data, train, and evaluate different regression models, and \n",
    "compare their performance. The dataset for this task is provided, named **‘House Pricing.csv’**. \n"
   ]
  },
  {
   "attachments": {},
   "cell_type": "markdown",
   "metadata": {
    "slideshow": {
     "slide_type": "subslide"
    }
   },
   "source": [
    "##### 1.Data Analysis"
   ]
  },
  {
   "cell_type": "code",
   "execution_count": 1,
   "metadata": {},
   "outputs": [],
   "source": [
    "# import libraries\n",
    "import numpy as np\n",
    "import pandas as pd\n",
    "import matplotlib.pyplot as plt\n",
    "import seaborn as sns"
   ]
  },
  {
   "cell_type": "code",
   "execution_count": null,
   "metadata": {},
   "outputs": [],
   "source": [
    "#load data into Panda's dataframe\n",
    "df = pd.read_csv('House Pricing.csv')\n",
    "\n",
    "#print the first 5 rows of the dataframe\n",
    "print(df.head())\n",
    "\n",
    "#check the basic statistics of the dataframe\n",
    "print(df.describe())\n",
    "\n",
    "#check the data types of the dataframe\n",
    "print(df.dtypes)"
   ]
  },
  {
   "cell_type": "code",
   "execution_count": null,
   "metadata": {},
   "outputs": [],
   "source": [
    "#Visualize the distribution of the features(numerical) using histogram\n",
    "sns.histplot(df['price'])\n",
    "sns.histplot(df['area'])\n",
    "sns.histplot(df['bedrooms'])\n",
    "sns.histplot(df['bathrooms'])\n",
    "sns.histplot(df['stories'])\n",
    "sns.histplot(df['parking'])"
   ]
  },
  {
   "cell_type": "code",
   "execution_count": null,
   "metadata": {},
   "outputs": [],
   "source": [
    "#Visualize the frequency of the features(categorical) using bar chart\n",
    "sns.countplot(x='mainroad', data=df)\n",
    "sns.countplot(x='guestroom', data=df)\n",
    "sns.countplot(x='basement', data=df)\n",
    "sns.countplot(x='hotwaterheating', data=df)\n",
    "sns.countplot(x='airconditioning', data=df)\n",
    "sns.countplot(x='prefarea', data=df)\n",
    "sns.countplot(x='furnishingstatus', data=df)"
   ]
  }
 ],
 "metadata": {
  "kernelspec": {
   "display_name": ".venv",
   "language": "python",
   "name": "python3"
  },
  "language_info": {
   "codemirror_mode": {
    "name": "ipython",
    "version": 3
   },
   "file_extension": ".py",
   "mimetype": "text/x-python",
   "name": "python",
   "nbconvert_exporter": "python",
   "pygments_lexer": "ipython3",
   "version": "3.11.3"
  },
  "orig_nbformat": 4
 },
 "nbformat": 4,
 "nbformat_minor": 2
}
